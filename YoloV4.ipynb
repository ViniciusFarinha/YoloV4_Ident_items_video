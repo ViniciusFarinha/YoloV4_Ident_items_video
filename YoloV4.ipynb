{
 "cells": [
  {
   "cell_type": "code",
   "execution_count": 1,
   "id": "acf9bfa6",
   "metadata": {},
   "outputs": [],
   "source": [
    "# importando as bibliotecas \n",
    "import cv2\n",
    "import time"
   ]
  },
  {
   "cell_type": "code",
   "execution_count": 2,
   "id": "fb7144c2",
   "metadata": {},
   "outputs": [],
   "source": [
    "# Cores das classes\n",
    "colors = [(0,255,255),(255,255,0),(0,255,0),(255,0,0)]"
   ]
  },
  {
   "cell_type": "code",
   "execution_count": 3,
   "id": "58b22ba7",
   "metadata": {},
   "outputs": [],
   "source": [
    "# Carregar as classes \n",
    "class_names = []\n",
    "with open(\"coco.names\",\"r\") as f:\n",
    "    class_names = [cname.strip() for cname in f.readlines()]"
   ]
  },
  {
   "cell_type": "code",
   "execution_count": 4,
   "id": "94840b37",
   "metadata": {},
   "outputs": [],
   "source": [
    "# Captura de Vídeo\n",
    "cap = cv2.VideoCapture(\"walk.mp4\")\n"
   ]
  },
  {
   "cell_type": "code",
   "execution_count": 5,
   "id": "178111fb",
   "metadata": {},
   "outputs": [],
   "source": [
    "# Carregando os pesos da rede neural\n",
    "net = cv2.dnn.readNet(\"yolov4-tiny.weights\",\"yolov4tiny.cfg\")"
   ]
  },
  {
   "cell_type": "code",
   "execution_count": 6,
   "id": "111395df",
   "metadata": {},
   "outputs": [],
   "source": [
    "# Setando os parâmetros da rede neural\n",
    "model = cv2.dnn_DetectionModel(net)\n",
    "model.setInputParams(size=(416,416), scale = 1/255)\n"
   ]
  },
  {
   "cell_type": "code",
   "execution_count": 7,
   "id": "1ceae2bf",
   "metadata": {},
   "outputs": [
    {
     "ename": "error",
     "evalue": "OpenCV(4.7.0) D:\\a\\opencv-python\\opencv-python\\opencv\\modules\\imgproc\\src\\resize.cpp:4062: error: (-215:Assertion failed) !ssize.empty() in function 'cv::resize'\n",
     "output_type": "error",
     "traceback": [
      "\u001b[1;31m---------------------------------------------------------------------------\u001b[0m",
      "\u001b[1;31merror\u001b[0m                                     Traceback (most recent call last)",
      "Cell \u001b[1;32mIn[7], line 5\u001b[0m\n\u001b[0;32m      2\u001b[0m _, frame \u001b[39m=\u001b[39m cap\u001b[39m.\u001b[39mread()\n\u001b[0;32m      3\u001b[0m start \u001b[39m=\u001b[39m time\u001b[39m.\u001b[39mtime()\n\u001b[1;32m----> 5\u001b[0m classes, scores, boxes \u001b[39m=\u001b[39m model\u001b[39m.\u001b[39;49mdetect(frame, \u001b[39m0.1\u001b[39;49m, \u001b[39m0.2\u001b[39;49m)\n\u001b[0;32m      7\u001b[0m end \u001b[39m=\u001b[39m time\u001b[39m.\u001b[39mtime()\n\u001b[0;32m      9\u001b[0m \u001b[39mfor\u001b[39;00m (classid,score,box) \u001b[39min\u001b[39;00m \u001b[39mzip\u001b[39m(classes, scores, boxes):\n",
      "\u001b[1;31merror\u001b[0m: OpenCV(4.7.0) D:\\a\\opencv-python\\opencv-python\\opencv\\modules\\imgproc\\src\\resize.cpp:4062: error: (-215:Assertion failed) !ssize.empty() in function 'cv::resize'\n"
     ]
    },
    {
     "ename": "",
     "evalue": "",
     "output_type": "error",
     "traceback": [
      "\u001b[1;31mO Kernel falhou ao executar o código na célula atual ou em uma célula anterior. Examine o código nas células para identificar uma possível causa da falha. Clique <a href=\"https://aka.ms/vscodeJupyterKernelCrash\">aqui</a> para obter mais informações. Consulte o <a href='command:jupyter.viewOutput'>log</a> do Jupyter para obter mais detalhes."
     ]
    }
   ],
   "source": [
    "# Lendo os Frames do Vídeo\n",
    "while True:\n",
    "\n",
    "    # Captura do frame\n",
    "    _, frame = cap.read()\n",
    "\n",
    "    # Contagem do Milisegundos\n",
    "\n",
    "    start = time.time()\n",
    "\n",
    "    # Detecção\n",
    "\n",
    "    classes, scores, boxes = model.detect(frame, 0.1, 0.2)\n",
    "\n",
    "     # Fim da contagem do Milisegundos\n",
    "\n",
    "    end = time.time()\n",
    "\n",
    "     # Percorrer as detecções\n",
    "\n",
    "    for (classid,score,box) in zip(classes, scores, boxes):\n",
    "        color = colors[int(classid) % len(colors)]\n",
    "\n",
    "        # Pegando o nome da classe pelo id é o seu score  de acurácia\n",
    "\n",
    "        label = f\"{class_names[classid]} : {score}\"\n",
    "\n",
    "        # Desenhando a box de detecção\n",
    "\n",
    "        cv2.rectangle(frame,box,color,2)\n",
    "\n",
    "        # Nome da classe em cima do box\n",
    "\n",
    "        cv2.putText(frame,label,(box[0],box[1]-10),cv2.FONT_HERSHEY_SIMPLEX,0.5,color,2)\n",
    "\n",
    "    # Mostrando a imagem    \n",
    "\n",
    "    cv2.imshow(\"detections\",frame)\n",
    "\n",
    "    # Espera da resposta\n",
    "\n",
    "    if cv2.waitKey(1) == 25:\n",
    "        break\n",
    "\n",
    "    # Liberação da Câmera e destruição da janela\n",
    "cap.release()\n",
    "cv2.destroyAllWindows()"
   ]
  }
 ],
 "metadata": {
  "kernelspec": {
   "display_name": "Python 3",
   "language": "python",
   "name": "python3"
  },
  "language_info": {
   "codemirror_mode": {
    "name": "ipython",
    "version": 3
   },
   "file_extension": ".py",
   "mimetype": "text/x-python",
   "name": "python",
   "nbconvert_exporter": "python",
   "pygments_lexer": "ipython3",
   "version": "3.9.10"
  },
  "vscode": {
   "interpreter": {
    "hash": "842dd5737c6037fedeeeb78f89f657e12272235b74566d76dc49a9fb1c8569d5"
   }
  }
 },
 "nbformat": 4,
 "nbformat_minor": 5
}
